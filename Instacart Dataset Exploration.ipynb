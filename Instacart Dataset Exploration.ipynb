{
 "cells": [
  {
   "cell_type": "markdown",
   "id": "cf2686b4",
   "metadata": {},
   "source": [
    "# Instacart Dataset 2017 - Exploration and Analysis\n",
    "\n",
    "Instacart is a popular app used for grocery ordering and delivery. They make it quite easy for you to fill your refrigerator and pantry with favorite produce, anytime you need them. In 2017, they published a Kaggle competition which challenged the Data Science community to create a powerfull recommendation system for their customers. They published an anonymized dataset that contained a sample of over 3 million grocery orders from more than 200,000 Instacart users. For each user, they provided between 4 and 100 of their orders, with the sequence of products purchased in each order. Furthermore, they provided the week and hour of day the order was placed, and a relative measure of time between orders. Quite an impressive dataset! \n",
    "\n",
    "I was curious enough to explore and analyse the dataset. However, I will leave out the recommender system part for another time.\n",
    "\n",
    "The structure of this notebook is organized as follows:\n",
    "\n",
    "<ul>\n",
    "    <li>1. Imports</li>\n",
    "    <li>2. Data</li>\n",
    "        <ul>\n",
    "            <li>2.1 Orders Dataset</li>\n",
    "            <li>2.2 Products Dataset</li>\n",
    "            <li>2.3 Aisles Dataset</li>\n",
    "            <li>2.4 Departments Dataset</li>\n",
    "            <li>2.5 Order Products Dataset</li>\n",
    "            <li>2.6 Merging Dataframes</li>\n",
    "        </ul>\n",
    "    <li>3. Business Case</li>\n",
    "        <ul>\n",
    "            <li>3.1 What is the structure of our data?</li>\n",
    "            <li>3.2 When do people place their orders?</li>\n",
    "            <li>3.3 How many orders are there per customer?</li>\n",
    "            <li>3.4 How often do customers reorder?</li>\n",
    "            <li>3.5 Which products are frequently ordered?</li>\n",
    "            <li>3.6 Which products are usually reordered?</li>\n",
    "            <li>3.7 What is the proportion between reordered and newly ordered items?</li>\n",
    "            <li>3.8 How many products are there in the cart usually?</li>\n",
    "            <li>3.9 What are the most popular aisles per products ordered?</li>\n",
    "            <li>3.10 What is the share of orders per aisle?</li>\n",
    "            <li>3.11 What are the most popular departments?</li>\n",
    "            <li>3.12 What is the share of orders per department?</li>\n",
    "        </ul>\n",
    "</ul>"
   ]
  },
  {
   "cell_type": "markdown",
   "id": "e8dedd45",
   "metadata": {},
   "source": [
    "# 1. Imports"
   ]
  },
  {
   "cell_type": "code",
   "execution_count": 1,
   "id": "e88c9a5b",
   "metadata": {},
   "outputs": [],
   "source": [
    "#basic libraries for linear algebra and data procesing\n",
    "import numpy as np\n",
    "import pandas as pd\n",
    "import missingno as msno\n",
    "\n",
    "#visualization\n",
    "import matplotlib.pyplot as plt\n",
    "import seaborn as sns\n",
    "\n",
    "#time and warnings\n",
    "import time\n",
    "import warnings\n",
    "\n",
    "#settings\n",
    "warnings.filterwarnings(\"ignore\")\n",
    "%matplotlib inline\n",
    "sns.set_context('poster', font_scale=0.5)"
   ]
  },
  {
   "cell_type": "markdown",
   "id": "d6fa67b8",
   "metadata": {},
   "source": [
    "# 2. Data"
   ]
  },
  {
   "cell_type": "code",
   "execution_count": 2,
   "id": "4486de1c",
   "metadata": {},
   "outputs": [],
   "source": [
    "#loading data\n",
    "orders = pd.read_csv('data/orders.csv')\n",
    "products = pd.read_csv('data/products.csv')\n",
    "aisles = pd.read_csv('data/aisles.csv')\n",
    "departments = pd.read_csv('data/departments.csv')\n",
    "order_products_train = pd.read_csv('data/order_products_train.csv')"
   ]
  },
  {
   "cell_type": "markdown",
   "id": "b4dc9aa2",
   "metadata": {},
   "source": [
    "**Converting float64 and int64 to 32 bit for memory usage**"
   ]
  },
  {
   "cell_type": "code",
   "execution_count": 3,
   "id": "b310d4ca",
   "metadata": {},
   "outputs": [],
   "source": [
    "#creating a function that converts 64-bit to 32-bit nums\n",
    "def size64_to_size32(df):\n",
    "    \"\"\"\n",
    "    It converts all 64-bit floats and integers to 32-bit\n",
    "    \"\"\"\n",
    "    for c in df.columns:\n",
    "        if df[c].dtypes == 'int64':\n",
    "            df[c] = df[c].astype(np.int32)\n",
    "        if df[c].dtypes == 'float64':\n",
    "            df[c] = df[c].astype(np.float32)"
   ]
  },
  {
   "cell_type": "code",
   "execution_count": 4,
   "id": "d3d41c46",
   "metadata": {},
   "outputs": [],
   "source": [
    "size64_to_size32(orders)\n",
    "size64_to_size32(products)\n",
    "size64_to_size32(aisles)\n",
    "size64_to_size32(departments)\n",
    "size64_to_size32(order_products_train)"
   ]
  },
  {
   "cell_type": "markdown",
   "id": "92d652ff",
   "metadata": {},
   "source": [
    "## 2.1 Orders Dataset"
   ]
  },
  {
   "cell_type": "code",
   "execution_count": 5,
   "id": "13823a36",
   "metadata": {},
   "outputs": [
    {
     "data": {
      "text/html": [
       "<div>\n",
       "<style scoped>\n",
       "    .dataframe tbody tr th:only-of-type {\n",
       "        vertical-align: middle;\n",
       "    }\n",
       "\n",
       "    .dataframe tbody tr th {\n",
       "        vertical-align: top;\n",
       "    }\n",
       "\n",
       "    .dataframe thead th {\n",
       "        text-align: right;\n",
       "    }\n",
       "</style>\n",
       "<table border=\"1\" class=\"dataframe\">\n",
       "  <thead>\n",
       "    <tr style=\"text-align: right;\">\n",
       "      <th></th>\n",
       "      <th>order_id</th>\n",
       "      <th>user_id</th>\n",
       "      <th>eval_set</th>\n",
       "      <th>order_number</th>\n",
       "      <th>order_dow</th>\n",
       "      <th>order_hour_of_day</th>\n",
       "      <th>days_since_prior_order</th>\n",
       "    </tr>\n",
       "  </thead>\n",
       "  <tbody>\n",
       "    <tr>\n",
       "      <th>0</th>\n",
       "      <td>2539329</td>\n",
       "      <td>1</td>\n",
       "      <td>prior</td>\n",
       "      <td>1</td>\n",
       "      <td>2</td>\n",
       "      <td>8</td>\n",
       "      <td>NaN</td>\n",
       "    </tr>\n",
       "    <tr>\n",
       "      <th>1</th>\n",
       "      <td>2398795</td>\n",
       "      <td>1</td>\n",
       "      <td>prior</td>\n",
       "      <td>2</td>\n",
       "      <td>3</td>\n",
       "      <td>7</td>\n",
       "      <td>15.0</td>\n",
       "    </tr>\n",
       "    <tr>\n",
       "      <th>2</th>\n",
       "      <td>473747</td>\n",
       "      <td>1</td>\n",
       "      <td>prior</td>\n",
       "      <td>3</td>\n",
       "      <td>3</td>\n",
       "      <td>12</td>\n",
       "      <td>21.0</td>\n",
       "    </tr>\n",
       "    <tr>\n",
       "      <th>3</th>\n",
       "      <td>2254736</td>\n",
       "      <td>1</td>\n",
       "      <td>prior</td>\n",
       "      <td>4</td>\n",
       "      <td>4</td>\n",
       "      <td>7</td>\n",
       "      <td>29.0</td>\n",
       "    </tr>\n",
       "    <tr>\n",
       "      <th>4</th>\n",
       "      <td>431534</td>\n",
       "      <td>1</td>\n",
       "      <td>prior</td>\n",
       "      <td>5</td>\n",
       "      <td>4</td>\n",
       "      <td>15</td>\n",
       "      <td>28.0</td>\n",
       "    </tr>\n",
       "  </tbody>\n",
       "</table>\n",
       "</div>"
      ],
      "text/plain": [
       "   order_id  user_id eval_set  order_number  order_dow  order_hour_of_day  \\\n",
       "0   2539329        1    prior             1          2                  8   \n",
       "1   2398795        1    prior             2          3                  7   \n",
       "2    473747        1    prior             3          3                 12   \n",
       "3   2254736        1    prior             4          4                  7   \n",
       "4    431534        1    prior             5          4                 15   \n",
       "\n",
       "   days_since_prior_order  \n",
       "0                     NaN  \n",
       "1                    15.0  \n",
       "2                    21.0  \n",
       "3                    29.0  \n",
       "4                    28.0  "
      ]
     },
     "execution_count": 5,
     "metadata": {},
     "output_type": "execute_result"
    }
   ],
   "source": [
    "orders.head()"
   ]
  },
  {
   "cell_type": "code",
   "execution_count": 6,
   "id": "7bd56e5f",
   "metadata": {},
   "outputs": [
    {
     "name": "stdout",
     "output_type": "stream",
     "text": [
      "<class 'pandas.core.frame.DataFrame'>\n",
      "RangeIndex: 3421083 entries, 0 to 3421082\n",
      "Data columns (total 7 columns):\n",
      " #   Column                  Dtype  \n",
      "---  ------                  -----  \n",
      " 0   order_id                int32  \n",
      " 1   user_id                 int32  \n",
      " 2   eval_set                object \n",
      " 3   order_number            int32  \n",
      " 4   order_dow               int32  \n",
      " 5   order_hour_of_day       int32  \n",
      " 6   days_since_prior_order  float32\n",
      "dtypes: float32(1), int32(5), object(1)\n",
      "memory usage: 104.4+ MB\n"
     ]
    }
   ],
   "source": [
    "orders.info()"
   ]
  },
  {
   "cell_type": "code",
   "execution_count": 7,
   "id": "0677de92",
   "metadata": {},
   "outputs": [
    {
     "name": "stdout",
     "output_type": "stream",
     "text": [
      "Number of missing values:  206209\n",
      "Percent of missing values per feature: \n"
     ]
    },
    {
     "data": {
      "text/plain": [
       "order_id                  0.000000\n",
       "user_id                   0.000000\n",
       "eval_set                  0.000000\n",
       "order_number              0.000000\n",
       "order_dow                 0.000000\n",
       "order_hour_of_day         0.000000\n",
       "days_since_prior_order    6.027594\n",
       "dtype: float64"
      ]
     },
     "execution_count": 7,
     "metadata": {},
     "output_type": "execute_result"
    }
   ],
   "source": [
    "#exploring the number of missing values per feature in percentage\n",
    "print('Number of missing values: ', orders.isnull().values.sum())\n",
    "print('Percent of missing values per feature: ') \n",
    "orders.isnull().sum() * 100 / len(orders)"
   ]
  },
  {
   "cell_type": "code",
   "execution_count": 8,
   "id": "12dcb5e0",
   "metadata": {},
   "outputs": [
    {
     "data": {
      "text/plain": [
       "<AxesSubplot:>"
      ]
     },
     "execution_count": 8,
     "metadata": {},
     "output_type": "execute_result"
    },
    {
     "data": {
      "image/png": "[encoded data removed]",
      "text/plain": [
       "<Figure size 1800x720 with 2 Axes>"
      ]
     },
     "metadata": {
      "needs_background": "light"
     },
     "output_type": "display_data"
    }
   ],
   "source": [
    "msno.matrix(orders)"
   ]
  },
  {
   "cell_type": "markdown",
   "id": "a0559c2f",
   "metadata": {},
   "source": [
    "## 2.2 Products Dataset"
   ]
  },
  {
   "cell_type": "code",
   "execution_count": 9,
   "id": "920c3c47",
   "metadata": {},
   "outputs": [
    {
     "data": {
      "text/html": [
       "<div>\n",
       "<style scoped>\n",
       "    .dataframe tbody tr th:only-of-type {\n",
       "        vertical-align: middle;\n",
       "    }\n",
       "\n",
       "    .dataframe tbody tr th {\n",
       "        vertical-align: top;\n",
       "    }\n",
       "\n",
       "    .dataframe thead th {\n",
       "        text-align: right;\n",
       "    }\n",
       "</style>\n",
       "<table border=\"1\" class=\"dataframe\">\n",
       "  <thead>\n",
       "    <tr style=\"text-align: right;\">\n",
       "      <th></th>\n",
       "      <th>product_id</th>\n",
       "      <th>product_name</th>\n",
       "      <th>aisle_id</th>\n",
       "      <th>department_id</th>\n",
       "    </tr>\n",
       "  </thead>\n",
       "  <tbody>\n",
       "    <tr>\n",
       "      <th>0</th>\n",
       "      <td>1</td>\n",
       "      <td>Chocolate Sandwich Cookies</td>\n",
       "      <td>61</td>\n",
       "      <td>19</td>\n",
       "    </tr>\n",
       "    <tr>\n",
       "      <th>1</th>\n",
       "      <td>2</td>\n",
       "      <td>All-Seasons Salt</td>\n",
       "      <td>104</td>\n",
       "      <td>13</td>\n",
       "    </tr>\n",
       "    <tr>\n",
       "      <th>2</th>\n",
       "      <td>3</td>\n",
       "      <td>Robust Golden Unsweetened Oolong Tea</td>\n",
       "      <td>94</td>\n",
       "      <td>7</td>\n",
       "    </tr>\n",
       "    <tr>\n",
       "      <th>3</th>\n",
       "      <td>4</td>\n",
       "      <td>Smart Ones Classic Favorites Mini Rigatoni Wit...</td>\n",
       "      <td>38</td>\n",
       "      <td>1</td>\n",
       "    </tr>\n",
       "    <tr>\n",
       "      <th>4</th>\n",
       "      <td>5</td>\n",
       "      <td>Green Chile Anytime Sauce</td>\n",
       "      <td>5</td>\n",
       "      <td>13</td>\n",
       "    </tr>\n",
       "  </tbody>\n",
       "</table>\n",
       "</div>"
      ],
      "text/plain": [
       "   product_id                                       product_name  aisle_id  \\\n",
       "0           1                         Chocolate Sandwich Cookies        61   \n",
       "1           2                                   All-Seasons Salt       104   \n",
       "2           3               Robust Golden Unsweetened Oolong Tea        94   \n",
       "3           4  Smart Ones Classic Favorites Mini Rigatoni Wit...        38   \n",
       "4           5                          Green Chile Anytime Sauce         5   \n",
       "\n",
       "   department_id  \n",
       "0             19  \n",
       "1             13  \n",
       "2              7  \n",
       "3              1  \n",
       "4             13  "
      ]
     },
     "execution_count": 9,
     "metadata": {},
     "output_type": "execute_result"
    }
   ],
   "source": [
    "products.head()"
   ]
  },
  {
   "cell_type": "code",
   "execution_count": 10,
   "id": "78504e87",
   "metadata": {},
   "outputs": [
    {
     "name": "stdout",
     "output_type": "stream",
     "text": [
      "<class 'pandas.core.frame.DataFrame'>\n",
      "RangeIndex: 49688 entries, 0 to 49687\n",
      "Data columns (total 4 columns):\n",
      " #   Column         Non-Null Count  Dtype \n",
      "---  ------         --------------  ----- \n",
      " 0   product_id     49688 non-null  int32 \n",
      " 1   product_name   49688 non-null  object\n",
      " 2   aisle_id       49688 non-null  int32 \n",
      " 3   department_id  49688 non-null  int32 \n",
      "dtypes: int32(3), object(1)\n",
      "memory usage: 970.6+ KB\n"
     ]
    }
   ],
   "source": [
    "products.info()"
   ]
  },
  {
   "cell_type": "code",
   "execution_count": 11,
   "id": "7d2b7579",
   "metadata": {},
   "outputs": [
    {
     "name": "stdout",
     "output_type": "stream",
     "text": [
      "Number of missing values:  0\n",
      "Percent of missing values per feature: \n"
     ]
    },
    {
     "data": {
      "text/plain": [
       "product_id       0.0\n",
       "product_name     0.0\n",
       "aisle_id         0.0\n",
       "department_id    0.0\n",
       "dtype: float64"
      ]
     },
     "execution_count": 11,
     "metadata": {},
     "output_type": "execute_result"
    }
   ],
   "source": [
    "#exploring the number of missing values per feature in percentage\n",
    "print('Number of missing values: ', products.isnull().values.sum())\n",
    "print('Percent of missing values per feature: ') \n",
    "products.isnull().sum() * 100 / len(products)"
   ]
  },
  {
   "cell_type": "markdown",
   "id": "846cda8e",
   "metadata": {},
   "source": [
    "## 2.3 Aisles Dataset"
   ]
  },
  {
   "cell_type": "code",
   "execution_count": 12,
   "id": "5c3c31c7",
   "metadata": {},
   "outputs": [
    {
     "data": {
      "text/html": [
       "<div>\n",
       "<style scoped>\n",
       "    .dataframe tbody tr th:only-of-type {\n",
       "        vertical-align: middle;\n",
       "    }\n",
       "\n",
       "    .dataframe tbody tr th {\n",
       "        vertical-align: top;\n",
       "    }\n",
       "\n",
       "    .dataframe thead th {\n",
       "        text-align: right;\n",
       "    }\n",
       "</style>\n",
       "<table border=\"1\" class=\"dataframe\">\n",
       "  <thead>\n",
       "    <tr style=\"text-align: right;\">\n",
       "      <th></th>\n",
       "      <th>aisle_id</th>\n",
       "      <th>aisle</th>\n",
       "    </tr>\n",
       "  </thead>\n",
       "  <tbody>\n",
       "    <tr>\n",
       "      <th>0</th>\n",
       "      <td>1</td>\n",
       "      <td>prepared soups salads</td>\n",
       "    </tr>\n",
       "    <tr>\n",
       "      <th>1</th>\n",
       "      <td>2</td>\n",
       "      <td>specialty cheeses</td>\n",
       "    </tr>\n",
       "    <tr>\n",
       "      <th>2</th>\n",
       "      <td>3</td>\n",
       "      <td>energy granola bars</td>\n",
       "    </tr>\n",
       "    <tr>\n",
       "      <th>3</th>\n",
       "      <td>4</td>\n",
       "      <td>instant foods</td>\n",
       "    </tr>\n",
       "    <tr>\n",
       "      <th>4</th>\n",
       "      <td>5</td>\n",
       "      <td>marinades meat preparation</td>\n",
       "    </tr>\n",
       "  </tbody>\n",
       "</table>\n",
       "</div>"
      ],
      "text/plain": [
       "   aisle_id                       aisle\n",
       "0         1       prepared soups salads\n",
       "1         2           specialty cheeses\n",
       "2         3         energy granola bars\n",
       "3         4               instant foods\n",
       "4         5  marinades meat preparation"
      ]
     },
     "execution_count": 12,
     "metadata": {},
     "output_type": "execute_result"
    }
   ],
   "source": [
    "aisles.head()"
   ]
  },
  {
   "cell_type": "code",
   "execution_count": 13,
   "id": "716e9dca",
   "metadata": {},
   "outputs": [
    {
     "name": "stdout",
     "output_type": "stream",
     "text": [
      "<class 'pandas.core.frame.DataFrame'>\n",
      "RangeIndex: 134 entries, 0 to 133\n",
      "Data columns (total 2 columns):\n",
      " #   Column    Non-Null Count  Dtype \n",
      "---  ------    --------------  ----- \n",
      " 0   aisle_id  134 non-null    int32 \n",
      " 1   aisle     134 non-null    object\n",
      "dtypes: int32(1), object(1)\n",
      "memory usage: 1.7+ KB\n"
     ]
    }
   ],
   "source": [
    "aisles.info()"
   ]
  },
  {
   "cell_type": "code",
   "execution_count": 14,
   "id": "afa275a5",
   "metadata": {},
   "outputs": [
    {
     "name": "stdout",
     "output_type": "stream",
     "text": [
      "Number of missing values:  0\n",
      "Percent of missing values per feature: \n"
     ]
    },
    {
     "data": {
      "text/plain": [
       "aisle_id    0.0\n",
       "aisle       0.0\n",
       "dtype: float64"
      ]
     },
     "execution_count": 14,
     "metadata": {},
     "output_type": "execute_result"
    }
   ],
   "source": [
    "#exploring the number of missing values per feature in percentage\n",
    "print('Number of missing values: ', aisles.isnull().values.sum())\n",
    "print('Percent of missing values per feature: ') \n",
    "aisles.isnull().sum() * 100 / len(aisles)"
   ]
  },
  {
   "cell_type": "markdown",
   "id": "a869f8cf",
   "metadata": {},
   "source": [
    "## 2.4 Departments Dataset"
   ]
  },
  {
   "cell_type": "code",
   "execution_count": 15,
   "id": "97649201",
   "metadata": {},
   "outputs": [
    {
     "data": {
      "text/html": [
       "<div>\n",
       "<style scoped>\n",
       "    .dataframe tbody tr th:only-of-type {\n",
       "        vertical-align: middle;\n",
       "    }\n",
       "\n",
       "    .dataframe tbody tr th {\n",
       "        vertical-align: top;\n",
       "    }\n",
       "\n",
       "    .dataframe thead th {\n",
       "        text-align: right;\n",
       "    }\n",
       "</style>\n",
       "<table border=\"1\" class=\"dataframe\">\n",
       "  <thead>\n",
       "    <tr style=\"text-align: right;\">\n",
       "      <th></th>\n",
       "      <th>department_id</th>\n",
       "      <th>department</th>\n",
       "    </tr>\n",
       "  </thead>\n",
       "  <tbody>\n",
       "    <tr>\n",
       "      <th>0</th>\n",
       "      <td>1</td>\n",
       "      <td>frozen</td>\n",
       "    </tr>\n",
       "    <tr>\n",
       "      <th>1</th>\n",
       "      <td>2</td>\n",
       "      <td>other</td>\n",
       "    </tr>\n",
       "    <tr>\n",
       "      <th>2</th>\n",
       "      <td>3</td>\n",
       "      <td>bakery</td>\n",
       "    </tr>\n",
       "    <tr>\n",
       "      <th>3</th>\n",
       "      <td>4</td>\n",
       "      <td>produce</td>\n",
       "    </tr>\n",
       "    <tr>\n",
       "      <th>4</th>\n",
       "      <td>5</td>\n",
       "      <td>alcohol</td>\n",
       "    </tr>\n",
       "  </tbody>\n",
       "</table>\n",
       "</div>"
      ],
      "text/plain": [
       "   department_id department\n",
       "0              1     frozen\n",
       "1              2      other\n",
       "2              3     bakery\n",
       "3              4    produce\n",
       "4              5    alcohol"
      ]
     },
     "execution_count": 15,
     "metadata": {},
     "output_type": "execute_result"
    }
   ],
   "source": [
    "departments.head()"
   ]
  },
  {
   "cell_type": "code",
   "execution_count": 16,
   "id": "2e4fae43",
   "metadata": {},
   "outputs": [
    {
     "name": "stdout",
     "output_type": "stream",
     "text": [
      "<class 'pandas.core.frame.DataFrame'>\n",
      "RangeIndex: 21 entries, 0 to 20\n",
      "Data columns (total 2 columns):\n",
      " #   Column         Non-Null Count  Dtype \n",
      "---  ------         --------------  ----- \n",
      " 0   department_id  21 non-null     int32 \n",
      " 1   department     21 non-null     object\n",
      "dtypes: int32(1), object(1)\n",
      "memory usage: 380.0+ bytes\n"
     ]
    }
   ],
   "source": [
    "departments.info()"
   ]
  },
  {
   "cell_type": "code",
   "execution_count": 17,
   "id": "56927970",
   "metadata": {},
   "outputs": [
    {
     "name": "stdout",
     "output_type": "stream",
     "text": [
      "Number of missing values:  0\n",
      "Percent of missing values per feature: \n"
     ]
    },
    {
     "data": {
      "text/plain": [
       "department_id    0.0\n",
       "department       0.0\n",
       "dtype: float64"
      ]
     },
     "execution_count": 17,
     "metadata": {},
     "output_type": "execute_result"
    }
   ],
   "source": [
    "#exploring the number of missing values per feature in percentage\n",
    "print('Number of missing values: ', departments.isnull().values.sum())\n",
    "print('Percent of missing values per feature: ') \n",
    "departments.isnull().sum() * 100 / len(departments)"
   ]
  },
  {
   "cell_type": "markdown",
   "id": "4d6c7e10",
   "metadata": {},
   "source": [
    "## 2.5 Order Products Dataset"
   ]
  },
  {
   "cell_type": "code",
   "execution_count": 18,
   "id": "e816c8e0",
   "metadata": {},
   "outputs": [
    {
     "data": {
      "text/html": [
       "<div>\n",
       "<style scoped>\n",
       "    .dataframe tbody tr th:only-of-type {\n",
       "        vertical-align: middle;\n",
       "    }\n",
       "\n",
       "    .dataframe tbody tr th {\n",
       "        vertical-align: top;\n",
       "    }\n",
       "\n",
       "    .dataframe thead th {\n",
       "        text-align: right;\n",
       "    }\n",
       "</style>\n",
       "<table border=\"1\" class=\"dataframe\">\n",
       "  <thead>\n",
       "    <tr style=\"text-align: right;\">\n",
       "      <th></th>\n",
       "      <th>order_id</th>\n",
       "      <th>product_id</th>\n",
       "      <th>add_to_cart_order</th>\n",
       "      <th>reordered</th>\n",
       "    </tr>\n",
       "  </thead>\n",
       "  <tbody>\n",
       "    <tr>\n",
       "      <th>0</th>\n",
       "      <td>1</td>\n",
       "      <td>49302</td>\n",
       "      <td>1</td>\n",
       "      <td>1</td>\n",
       "    </tr>\n",
       "    <tr>\n",
       "      <th>1</th>\n",
       "      <td>1</td>\n",
       "      <td>11109</td>\n",
       "      <td>2</td>\n",
       "      <td>1</td>\n",
       "    </tr>\n",
       "    <tr>\n",
       "      <th>2</th>\n",
       "      <td>1</td>\n",
       "      <td>10246</td>\n",
       "      <td>3</td>\n",
       "      <td>0</td>\n",
       "    </tr>\n",
       "    <tr>\n",
       "      <th>3</th>\n",
       "      <td>1</td>\n",
       "      <td>49683</td>\n",
       "      <td>4</td>\n",
       "      <td>0</td>\n",
       "    </tr>\n",
       "    <tr>\n",
       "      <th>4</th>\n",
       "      <td>1</td>\n",
       "      <td>43633</td>\n",
       "      <td>5</td>\n",
       "      <td>1</td>\n",
       "    </tr>\n",
       "  </tbody>\n",
       "</table>\n",
       "</div>"
      ],
      "text/plain": [
       "   order_id  product_id  add_to_cart_order  reordered\n",
       "0         1       49302                  1          1\n",
       "1         1       11109                  2          1\n",
       "2         1       10246                  3          0\n",
       "3         1       49683                  4          0\n",
       "4         1       43633                  5          1"
      ]
     },
     "execution_count": 18,
     "metadata": {},
     "output_type": "execute_result"
    }
   ],
   "source": [
    "order_products_train.head()"
   ]
  },
  {
   "cell_type": "code",
   "execution_count": 19,
   "id": "c21b7b67",
   "metadata": {},
   "outputs": [
    {
     "name": "stdout",
     "output_type": "stream",
     "text": [
      "<class 'pandas.core.frame.DataFrame'>\n",
      "RangeIndex: 1384617 entries, 0 to 1384616\n",
      "Data columns (total 4 columns):\n",
      " #   Column             Non-Null Count    Dtype\n",
      "---  ------             --------------    -----\n",
      " 0   order_id           1384617 non-null  int32\n",
      " 1   product_id         1384617 non-null  int32\n",
      " 2   add_to_cart_order  1384617 non-null  int32\n",
      " 3   reordered          1384617 non-null  int32\n",
      "dtypes: int32(4)\n",
      "memory usage: 21.1 MB\n"
     ]
    }
   ],
   "source": [
    "order_products_train.info()"
   ]
  },
  {
   "cell_type": "code",
   "execution_count": 20,
   "id": "e752e91d",
   "metadata": {},
   "outputs": [
    {
     "name": "stdout",
     "output_type": "stream",
     "text": [
      "Number of missing values:  0\n",
      "Percent of missing values per feature: \n"
     ]
    },
    {
     "data": {
      "text/plain": [
       "order_id             0.0\n",
       "product_id           0.0\n",
       "add_to_cart_order    0.0\n",
       "reordered            0.0\n",
       "dtype: float64"
      ]
     },
     "execution_count": 20,
     "metadata": {},
     "output_type": "execute_result"
    }
   ],
   "source": [
    "#exploring the number of missing values per feature in percentage\n",
    "print('Number of missing values: ', order_products_train.isnull().values.sum())\n",
    "print('Percent of missing values per feature: ') \n",
    "order_products_train.isnull().sum() * 100 / len(order_products_train)"
   ]
  },
  {
   "cell_type": "markdown",
   "id": "350b73df",
   "metadata": {},
   "source": [
    "## 2.6 Merging dataframes"
   ]
  },
  {
   "cell_type": "code",
   "execution_count": 21,
   "id": "8de1dc75",
   "metadata": {},
   "outputs": [],
   "source": [
    "#merging products with aisles, departments, and order_products_train\n",
    "products = pd.merge(aisles, products, on='aisle_id')\n",
    "products = pd.merge(departments, products, on='department_id')\n",
    "products = pd.merge(order_products_train, products, on='product_id')"
   ]
  },
  {
   "cell_type": "code",
   "execution_count": 22,
   "id": "c6a4ff9e",
   "metadata": {},
   "outputs": [],
   "source": [
    "#merging products and orders\n",
    "products_and_orders = pd.merge(products, orders, on='order_id')"
   ]
  },
  {
   "cell_type": "code",
   "execution_count": 23,
   "id": "8a45028e",
   "metadata": {},
   "outputs": [
    {
     "data": {
      "text/html": [
       "<div>\n",
       "<style scoped>\n",
       "    .dataframe tbody tr th:only-of-type {\n",
       "        vertical-align: middle;\n",
       "    }\n",
       "\n",
       "    .dataframe tbody tr th {\n",
       "        vertical-align: top;\n",
       "    }\n",
       "\n",
       "    .dataframe thead th {\n",
       "        text-align: right;\n",
       "    }\n",
       "</style>\n",
       "<table border=\"1\" class=\"dataframe\">\n",
       "  <thead>\n",
       "    <tr style=\"text-align: right;\">\n",
       "      <th></th>\n",
       "      <th>order_id</th>\n",
       "      <th>product_id</th>\n",
       "      <th>add_to_cart_order</th>\n",
       "      <th>reordered</th>\n",
       "      <th>department_id</th>\n",
       "      <th>department</th>\n",
       "      <th>aisle_id</th>\n",
       "      <th>aisle</th>\n",
       "      <th>product_name</th>\n",
       "    </tr>\n",
       "  </thead>\n",
       "  <tbody>\n",
       "    <tr>\n",
       "      <th>0</th>\n",
       "      <td>1</td>\n",
       "      <td>49302</td>\n",
       "      <td>1</td>\n",
       "      <td>1</td>\n",
       "      <td>16</td>\n",
       "      <td>dairy eggs</td>\n",
       "      <td>120</td>\n",
       "      <td>yogurt</td>\n",
       "      <td>Bulgarian Yogurt</td>\n",
       "    </tr>\n",
       "    <tr>\n",
       "      <th>1</th>\n",
       "      <td>816049</td>\n",
       "      <td>49302</td>\n",
       "      <td>7</td>\n",
       "      <td>1</td>\n",
       "      <td>16</td>\n",
       "      <td>dairy eggs</td>\n",
       "      <td>120</td>\n",
       "      <td>yogurt</td>\n",
       "      <td>Bulgarian Yogurt</td>\n",
       "    </tr>\n",
       "    <tr>\n",
       "      <th>2</th>\n",
       "      <td>1242203</td>\n",
       "      <td>49302</td>\n",
       "      <td>1</td>\n",
       "      <td>1</td>\n",
       "      <td>16</td>\n",
       "      <td>dairy eggs</td>\n",
       "      <td>120</td>\n",
       "      <td>yogurt</td>\n",
       "      <td>Bulgarian Yogurt</td>\n",
       "    </tr>\n",
       "    <tr>\n",
       "      <th>3</th>\n",
       "      <td>1383349</td>\n",
       "      <td>49302</td>\n",
       "      <td>11</td>\n",
       "      <td>1</td>\n",
       "      <td>16</td>\n",
       "      <td>dairy eggs</td>\n",
       "      <td>120</td>\n",
       "      <td>yogurt</td>\n",
       "      <td>Bulgarian Yogurt</td>\n",
       "    </tr>\n",
       "    <tr>\n",
       "      <th>4</th>\n",
       "      <td>1787378</td>\n",
       "      <td>49302</td>\n",
       "      <td>8</td>\n",
       "      <td>0</td>\n",
       "      <td>16</td>\n",
       "      <td>dairy eggs</td>\n",
       "      <td>120</td>\n",
       "      <td>yogurt</td>\n",
       "      <td>Bulgarian Yogurt</td>\n",
       "    </tr>\n",
       "  </tbody>\n",
       "</table>\n",
       "</div>"
      ],
      "text/plain": [
       "   order_id  product_id  add_to_cart_order  reordered  department_id  \\\n",
       "0         1       49302                  1          1             16   \n",
       "1    816049       49302                  7          1             16   \n",
       "2   1242203       49302                  1          1             16   \n",
       "3   1383349       49302                 11          1             16   \n",
       "4   1787378       49302                  8          0             16   \n",
       "\n",
       "   department  aisle_id   aisle      product_name  \n",
       "0  dairy eggs       120  yogurt  Bulgarian Yogurt  \n",
       "1  dairy eggs       120  yogurt  Bulgarian Yogurt  \n",
       "2  dairy eggs       120  yogurt  Bulgarian Yogurt  \n",
       "3  dairy eggs       120  yogurt  Bulgarian Yogurt  \n",
       "4  dairy eggs       120  yogurt  Bulgarian Yogurt  "
      ]
     },
     "execution_count": 23,
     "metadata": {},
     "output_type": "execute_result"
    }
   ],
   "source": [
    "products.head()"
   ]
  },
  {
   "cell_type": "code",
   "execution_count": 24,
   "id": "f8897682",
   "metadata": {},
   "outputs": [
    {
     "data": {
      "text/html": [
       "<div>\n",
       "<style scoped>\n",
       "    .dataframe tbody tr th:only-of-type {\n",
       "        vertical-align: middle;\n",
       "    }\n",
       "\n",
       "    .dataframe tbody tr th {\n",
       "        vertical-align: top;\n",
       "    }\n",
       "\n",
       "    .dataframe thead th {\n",
       "        text-align: right;\n",
       "    }\n",
       "</style>\n",
       "<table border=\"1\" class=\"dataframe\">\n",
       "  <thead>\n",
       "    <tr style=\"text-align: right;\">\n",
       "      <th></th>\n",
       "      <th>order_id</th>\n",
       "      <th>product_id</th>\n",
       "      <th>add_to_cart_order</th>\n",
       "      <th>reordered</th>\n",
       "      <th>department_id</th>\n",
       "      <th>department</th>\n",
       "      <th>aisle_id</th>\n",
       "      <th>aisle</th>\n",
       "      <th>product_name</th>\n",
       "      <th>user_id</th>\n",
       "      <th>eval_set</th>\n",
       "      <th>order_number</th>\n",
       "      <th>order_dow</th>\n",
       "      <th>order_hour_of_day</th>\n",
       "      <th>days_since_prior_order</th>\n",
       "    </tr>\n",
       "  </thead>\n",
       "  <tbody>\n",
       "    <tr>\n",
       "      <th>0</th>\n",
       "      <td>1</td>\n",
       "      <td>49302</td>\n",
       "      <td>1</td>\n",
       "      <td>1</td>\n",
       "      <td>16</td>\n",
       "      <td>dairy eggs</td>\n",
       "      <td>120</td>\n",
       "      <td>yogurt</td>\n",
       "      <td>Bulgarian Yogurt</td>\n",
       "      <td>112108</td>\n",
       "      <td>train</td>\n",
       "      <td>4</td>\n",
       "      <td>4</td>\n",
       "      <td>10</td>\n",
       "      <td>9.0</td>\n",
       "    </tr>\n",
       "    <tr>\n",
       "      <th>1</th>\n",
       "      <td>1</td>\n",
       "      <td>11109</td>\n",
       "      <td>2</td>\n",
       "      <td>1</td>\n",
       "      <td>16</td>\n",
       "      <td>dairy eggs</td>\n",
       "      <td>108</td>\n",
       "      <td>other creams cheeses</td>\n",
       "      <td>Organic 4% Milk Fat Whole Milk Cottage Cheese</td>\n",
       "      <td>112108</td>\n",
       "      <td>train</td>\n",
       "      <td>4</td>\n",
       "      <td>4</td>\n",
       "      <td>10</td>\n",
       "      <td>9.0</td>\n",
       "    </tr>\n",
       "    <tr>\n",
       "      <th>2</th>\n",
       "      <td>1</td>\n",
       "      <td>10246</td>\n",
       "      <td>3</td>\n",
       "      <td>0</td>\n",
       "      <td>4</td>\n",
       "      <td>produce</td>\n",
       "      <td>83</td>\n",
       "      <td>fresh vegetables</td>\n",
       "      <td>Organic Celery Hearts</td>\n",
       "      <td>112108</td>\n",
       "      <td>train</td>\n",
       "      <td>4</td>\n",
       "      <td>4</td>\n",
       "      <td>10</td>\n",
       "      <td>9.0</td>\n",
       "    </tr>\n",
       "    <tr>\n",
       "      <th>3</th>\n",
       "      <td>1</td>\n",
       "      <td>49683</td>\n",
       "      <td>4</td>\n",
       "      <td>0</td>\n",
       "      <td>4</td>\n",
       "      <td>produce</td>\n",
       "      <td>83</td>\n",
       "      <td>fresh vegetables</td>\n",
       "      <td>Cucumber Kirby</td>\n",
       "      <td>112108</td>\n",
       "      <td>train</td>\n",
       "      <td>4</td>\n",
       "      <td>4</td>\n",
       "      <td>10</td>\n",
       "      <td>9.0</td>\n",
       "    </tr>\n",
       "    <tr>\n",
       "      <th>4</th>\n",
       "      <td>1</td>\n",
       "      <td>43633</td>\n",
       "      <td>5</td>\n",
       "      <td>1</td>\n",
       "      <td>15</td>\n",
       "      <td>canned goods</td>\n",
       "      <td>95</td>\n",
       "      <td>canned meat seafood</td>\n",
       "      <td>Lightly Smoked Sardines in Olive Oil</td>\n",
       "      <td>112108</td>\n",
       "      <td>train</td>\n",
       "      <td>4</td>\n",
       "      <td>4</td>\n",
       "      <td>10</td>\n",
       "      <td>9.0</td>\n",
       "    </tr>\n",
       "  </tbody>\n",
       "</table>\n",
       "</div>"
      ],
      "text/plain": [
       "   order_id  product_id  add_to_cart_order  reordered  department_id  \\\n",
       "0         1       49302                  1          1             16   \n",
       "1         1       11109                  2          1             16   \n",
       "2         1       10246                  3          0              4   \n",
       "3         1       49683                  4          0              4   \n",
       "4         1       43633                  5          1             15   \n",
       "\n",
       "     department  aisle_id                 aisle  \\\n",
       "0    dairy eggs       120                yogurt   \n",
       "1    dairy eggs       108  other creams cheeses   \n",
       "2       produce        83      fresh vegetables   \n",
       "3       produce        83      fresh vegetables   \n",
       "4  canned goods        95   canned meat seafood   \n",
       "\n",
       "                                    product_name  user_id eval_set  \\\n",
       "0                               Bulgarian Yogurt   112108    train   \n",
       "1  Organic 4% Milk Fat Whole Milk Cottage Cheese   112108    train   \n",
       "2                          Organic Celery Hearts   112108    train   \n",
       "3                                 Cucumber Kirby   112108    train   \n",
       "4           Lightly Smoked Sardines in Olive Oil   112108    train   \n",
       "\n",
       "   order_number  order_dow  order_hour_of_day  days_since_prior_order  \n",
       "0             4          4                 10                     9.0  \n",
       "1             4          4                 10                     9.0  \n",
       "2             4          4                 10                     9.0  \n",
       "3             4          4                 10                     9.0  \n",
       "4             4          4                 10                     9.0  "
      ]
     },
     "execution_count": 24,
     "metadata": {},
     "output_type": "execute_result"
    }
   ],
   "source": [
    "products_and_orders.head()"
   ]
  },
  {
   "cell_type": "markdown",
   "id": "93a024ea",
   "metadata": {},
   "source": [
    "# 3. Business Case Data Analysis\n",
    "\n",
    "\n",
    "    3.1 What is the structure of our data?\n",
    "    3.2 When do people place their orders?\n",
    "    3.3 How many orders are there per customer?\n",
    "    3.4 How often do customers reorder?\n",
    "    3.5 Which products are frequently ordered?\n",
    "    3.6 Which products are usually reordered?\n",
    "    3.7 What is the proportion between reordered and newly ordered items?\n",
    "    3.8 How many products are there in the cart usually?\n",
    "    3.9 What are the most popular aisles per products ordered?\n",
    "    3.10 What is the share of orders per aisle?\n",
    "    3.11 What are the most popular departments?\n",
    "    3.12 What is the share of orders per department?\n",
    "    \n",
    "- Most of the purchases are being made on days 0 and 1 (around 120K more orders are placed on these days). An assumption is made these days are Saturday and Sunday. There isn't a significant difference in number of orders on other days.\n",
    "- Most orders are placed between 9am and 5pm\n",
    "- Most orders are placed on the weekends between 10am and 16pm\n",
    "- Most users make between 4 and 10 orders\n",
    "- People usually order after 7 days, or after 30 days (NOTE: the data for days_since_prior_order was capped at 30)\n",
    "- The number of products in the basket is between 5 and 7 for the majority of orders\n",
    "- Top 12 added to cart products rule Banana as number one. The majority of products are fruits, mostly organic.\n",
    "- Top 12 reordered products tell a similar story: the number one is Banana, followed by fruit, mostly organic.\n",
    "- There are usually 1 to 6 items in the basket per order\n",
    "- The proportion of reordered items is greater at almost 60%, which indicates the habit of ordering the same items\n",
    "- The highest share of orders belong to the fresh fruits and fresh vegetables equally 22.4%, followed by packaged vegetable fruits, and yogurt.\n",
    "- The highest share of orders belongs to the produce department 31.8%, followed by the dairy eggs department, and the snacks department."
   ]
  },
  {
   "cell_type": "markdown",
   "id": "0072181f",
   "metadata": {},
   "source": [
    "## 3.1 What is the structure of our data?"
   ]
  },
  {
   "cell_type": "code",
   "execution_count": 41,
   "id": "d575fa79",
   "metadata": {},
   "outputs": [
    {
     "data": {
      "image/png": "[encoded data removed]",
      "text/plain": [
       "<Figure size 864x432 with 1 Axes>"
      ]
     },
     "metadata": {
      "needs_background": "light"
     },
     "output_type": "display_data"
    }
   ],
   "source": [
    "#visualizing the number of customers, orders, aisles, and products\n",
    "data = {'Customers': len(products_and_orders.user_id.unique()),\n",
    "        'Orders': len(products_and_orders.order_id.unique()),\n",
    "        'Products': len(products_and_orders.product_id.unique()),\n",
    "        'Aisles': len(products_and_orders.aisle_id.unique()),\n",
    "        'Departments': len(products_and_orders.department_id.unique())}\n",
    "data_structure = pd.DataFrame(data, index=[0])\n",
    "\n",
    "plt.figure(figsize=(12,6))\n",
    "ax = sns.barplot(data = data_structure, palette = 'Set2')\n",
    "ax.bar_label(ax.containers[0]);"
   ]
  },
  {
   "cell_type": "markdown",
   "id": "eca6cfe7",
   "metadata": {},
   "source": [
    "## 3.2 When do people place their orders?"
   ]
  },
  {
   "cell_type": "code",
   "execution_count": 26,
   "id": "a12144c8",
   "metadata": {},
   "outputs": [
    {
     "data": {
      "image/png": "[encoded data removed]",
      "text/plain": [
       "<Figure size 864x576 with 1 Axes>"
      ]
     },
     "metadata": {
      "needs_background": "light"
     },
     "output_type": "display_data"
    }
   ],
   "source": [
    "#number of orders by day of week\n",
    "\n",
    "plt.figure(figsize=(12,8))\n",
    "sns.countplot(orders['order_dow'])\n",
    "plt.ylabel('Number of Orders', fontsize=12)\n",
    "plt.xlabel('Day of Week', fontsize=12)\n",
    "plt.title('Number of Orders per Day of Week', fontsize=15);"
   ]
  },
  {
   "cell_type": "code",
   "execution_count": 27,
   "id": "29fe63c7",
   "metadata": {},
   "outputs": [
    {
     "data": {
      "image/png": "[encoded data removed]",
      "text/plain": [
       "<Figure size 1080x576 with 1 Axes>"
      ]
     },
     "metadata": {
      "needs_background": "light"
     },
     "output_type": "display_data"
    }
   ],
   "source": [
    "#at what hour do people order the most\n",
    "\n",
    "plt.figure(figsize=(15,8))\n",
    "sns.countplot(orders['order_hour_of_day'])\n",
    "plt.ylabel('Number of Orders', fontsize=12)\n",
    "plt.xlabel('Hour of Day', fontsize=12)\n",
    "plt.title('Number of Orders per Hour of Day', fontsize=15);"
   ]
  },
  {
   "cell_type": "code",
   "execution_count": 28,
   "id": "8c6c7db9",
   "metadata": {},
   "outputs": [
    {
     "data": {
      "image/png": "[encoded data removed]",
      "text/plain": [
       "<Figure size 1080x576 with 2 Axes>"
      ]
     },
     "metadata": {
      "needs_background": "light"
     },
     "output_type": "display_data"
    }
   ],
   "source": [
    "#frequency of orders per weekday and its hour\n",
    "\n",
    "days_hours = orders.groupby([\"order_dow\", \"order_hour_of_day\"])[\"order_number\"].aggregate(\"count\").reset_index()\n",
    "days_hours = days_hours.pivot('order_dow', 'order_hour_of_day', 'order_number')\n",
    "\n",
    "plt.figure(figsize=(15,8))\n",
    "sns.heatmap(days_hours, cmap='coolwarm')\n",
    "plt.title('Frequency of Day of Week Vs Hour of Day', fontsize=15)\n",
    "plt.ylabel('Day Of Week', fontsize = 12)\n",
    "plt.xlabel('Hour of day', fontsize = 12)\n",
    "plt.show()"
   ]
  },
  {
   "cell_type": "markdown",
   "id": "64887b43",
   "metadata": {},
   "source": [
    "## 3.3 How many orders are there per customer?"
   ]
  },
  {
   "cell_type": "code",
   "execution_count": 29,
   "id": "86644a05",
   "metadata": {},
   "outputs": [
    {
     "data": {
      "text/plain": [
       "count    206209.000000\n",
       "mean         16.590367\n",
       "std          16.654774\n",
       "min           4.000000\n",
       "25%           6.000000\n",
       "50%          10.000000\n",
       "75%          20.000000\n",
       "max         100.000000\n",
       "Name: order_id, dtype: float64"
      ]
     },
     "execution_count": 29,
     "metadata": {},
     "output_type": "execute_result"
    }
   ],
   "source": [
    "orders.groupby('user_id')['order_id'].nunique().describe()"
   ]
  },
  {
   "cell_type": "code",
   "execution_count": 30,
   "id": "aebad82b",
   "metadata": {},
   "outputs": [
    {
     "data": {
      "image/png": "[encoded data removed]",
      "text/plain": [
       "<Figure size 864x576 with 1 Axes>"
      ]
     },
     "metadata": {
      "needs_background": "light"
     },
     "output_type": "display_data"
    }
   ],
   "source": [
    "plt.figure(figsize=(12,8))\n",
    "sns.histplot(orders.groupby('user_id')['order_id'].nunique(), binwidth=3, kde = True, palette = 'Set2')\n",
    "plt.ylabel('Count', fontsize=12)\n",
    "plt.xlabel('Orders per User', fontsize=12)\n",
    "plt.title('Number of orders per user', fontsize=15)\n",
    "plt.show();"
   ]
  },
  {
   "cell_type": "markdown",
   "id": "8ee75f2c",
   "metadata": {},
   "source": [
    "## 3.4 How often do customers reorder?"
   ]
  },
  {
   "cell_type": "code",
   "execution_count": 31,
   "id": "d96375b7",
   "metadata": {},
   "outputs": [
    {
     "data": {
      "image/png": "[encoded data removed]",
      "text/plain": [
       "<Figure size 1008x576 with 1 Axes>"
      ]
     },
     "metadata": {
      "needs_background": "light"
     },
     "output_type": "display_data"
    }
   ],
   "source": [
    "plt.figure(figsize=(14,8))\n",
    "sns.countplot(orders['days_since_prior_order'], palette = 'Set3')\n",
    "plt.ylabel('Number of Orders', fontsize=12)\n",
    "plt.xlabel('Days since Last Order', fontsize=12)\n",
    "plt.title('Frequency of Orders per Days', fontsize=15)\n",
    "plt.show();"
   ]
  },
  {
   "cell_type": "markdown",
   "id": "1f0bf5a7",
   "metadata": {},
   "source": [
    "## 3.5 Which products are frequently ordered?"
   ]
  },
  {
   "cell_type": "code",
   "execution_count": 32,
   "id": "634a8c9c",
   "metadata": {},
   "outputs": [
    {
     "data": {
      "image/png": "[encoded data removed]",
      "text/plain": [
       "<Figure size 864x432 with 1 Axes>"
      ]
     },
     "metadata": {
      "needs_background": "light"
     },
     "output_type": "display_data"
    }
   ],
   "source": [
    "plt.figure(figsize=(12,6))\n",
    "sns.barplot(data = products.groupby('product_name')['add_to_cart_order'].sum().sort_values(ascending = False).reset_index()[0:12], \n",
    "            x = 'add_to_cart_order', y = 'product_name', palette = 'Set2')\n",
    "plt.ylabel('Item', fontsize=12)\n",
    "plt.xlabel('Top 12 Products Added to Cart', fontsize=12)\n",
    "plt.title('Most frequently ordered products', fontsize=13)\n",
    "plt.show();"
   ]
  },
  {
   "cell_type": "markdown",
   "id": "03248b5b",
   "metadata": {},
   "source": [
    "## 3.6 Which products are usually reordered?"
   ]
  },
  {
   "cell_type": "code",
   "execution_count": 33,
   "id": "afb330d9",
   "metadata": {},
   "outputs": [
    {
     "data": {
      "image/png": "[encoded data removed]",
      "text/plain": [
       "<Figure size 864x432 with 1 Axes>"
      ]
     },
     "metadata": {
      "needs_background": "light"
     },
     "output_type": "display_data"
    }
   ],
   "source": [
    "#visualizing top 12 products that were reordered\n",
    "\n",
    "plt.figure(figsize=(12,6))\n",
    "sns.barplot(data = products.groupby('product_name')['reordered'].sum().sort_values(ascending = False).reset_index()[0:12], \n",
    "            x = 'reordered', y = 'product_name', palette = 'Set3')\n",
    "plt.ylabel('Item', fontsize=12)\n",
    "plt.xlabel('Number of Times Reordered', fontsize=12)\n",
    "plt.title('Top 12 Reordered Products', fontsize=13)\n",
    "plt.show();"
   ]
  },
  {
   "cell_type": "markdown",
   "id": "4e7a37fe",
   "metadata": {},
   "source": [
    "## 3.7 What is the proportion between reordered and newly ordered items?"
   ]
  },
  {
   "cell_type": "code",
   "execution_count": 34,
   "id": "a5dfeae3",
   "metadata": {},
   "outputs": [
    {
     "data": {
      "image/png": "[encoded data removed]",
      "text/plain": [
       "<Figure size 720x432 with 1 Axes>"
      ]
     },
     "metadata": {
      "needs_background": "light"
     },
     "output_type": "display_data"
    }
   ],
   "source": [
    "#visualizing the proportion of reordered items\n",
    "\n",
    "prop_reorder = order_products_train.groupby('reordered')['add_to_cart_order'].count().reset_index()\n",
    "prop_reorder['proportion'] = prop_reorder['add_to_cart_order'] * 100 / order_products_train['add_to_cart_order'].count()\n",
    "\n",
    "plt.figure(figsize=(10,6))\n",
    "sns.barplot(data = prop_reorder, x='reordered', y='proportion', palette='coolwarm')\n",
    "plt.ylabel('Proportion', fontsize=12)\n",
    "plt.xlabel('Reordered', fontsize=12)\n",
    "plt.title('Proportion of Reordered Items', fontsize=15)\n",
    "plt.show();"
   ]
  },
  {
   "cell_type": "markdown",
   "id": "bad75a5b",
   "metadata": {},
   "source": [
    "## 3.8 How many products are there in the cart usually?"
   ]
  },
  {
   "cell_type": "code",
   "execution_count": 35,
   "id": "2469d83a",
   "metadata": {
    "scrolled": false
   },
   "outputs": [
    {
     "data": {
      "image/png": "[encoded data removed]",
      "text/plain": [
       "<Figure size 1008x576 with 1 Axes>"
      ]
     },
     "metadata": {
      "needs_background": "light"
     },
     "output_type": "display_data"
    }
   ],
   "source": [
    "#visualizing how many products are there in the basket usually\n",
    "\n",
    "products_per_order = order_products_train.groupby('order_id')['add_to_cart_order'].max().reset_index()\n",
    "\n",
    "plt.figure(figsize=(14,8))\n",
    "sns.histplot(order_products_train['add_to_cart_order'], bins = 50, kde = True)\n",
    "plt.ylabel('Number of Products', fontsize=12)\n",
    "plt.xlabel('Order of Products Added to Cart', fontsize=12)\n",
    "plt.title('Number of Products in the Cart', fontsize=15)\n",
    "plt.show();"
   ]
  },
  {
   "cell_type": "markdown",
   "id": "4625f480",
   "metadata": {},
   "source": [
    "## 3.9 What are the most popular aisles per products ordered?"
   ]
  },
  {
   "cell_type": "code",
   "execution_count": 36,
   "id": "1b7fd977",
   "metadata": {
    "scrolled": false
   },
   "outputs": [
    {
     "data": {
      "image/png": "[encoded data removed]",
      "text/plain": [
       "<Figure size 864x432 with 1 Axes>"
      ]
     },
     "metadata": {
      "needs_background": "light"
     },
     "output_type": "display_data"
    }
   ],
   "source": [
    "#visualizing most popular aisles per products ordered\n",
    "\n",
    "plt.figure(figsize=(12,6))\n",
    "sns.barplot(data = products_and_orders.groupby('aisle')['add_to_cart_order'].sum().sort_values(ascending = False).reset_index()[0:10], \n",
    "            x = 'add_to_cart_order', y = 'aisle', palette = 'Set1')\n",
    "plt.ylabel('Aisle', fontsize=12)\n",
    "plt.xlabel('Products ordered', fontsize=12)\n",
    "plt.title('Most popular Aisles', fontsize=13)\n",
    "plt.show();"
   ]
  },
  {
   "cell_type": "markdown",
   "id": "0a75a767",
   "metadata": {},
   "source": [
    "## 3.10 What is the share of orders per aisle?"
   ]
  },
  {
   "cell_type": "code",
   "execution_count": 37,
   "id": "6afbc7e4",
   "metadata": {},
   "outputs": [
    {
     "data": {
      "image/png": "[encoded data removed]",
      "text/plain": [
       "<Figure size 864x432 with 1 Axes>"
      ]
     },
     "metadata": {
      "needs_background": "light"
     },
     "output_type": "display_data"
    }
   ],
   "source": [
    "top_aisle = products.groupby('aisle')['order_id'].count().reset_index()\n",
    "top_aisle = top_aisle.nlargest(12,'order_id')\n",
    "\n",
    "plt.figure(figsize=(12,6))\n",
    "sns.barplot(data = top_aisle, x = 'order_id', y = 'aisle', palette = 'Set2')\n",
    "plt.ylabel('Aisle', fontsize=12)\n",
    "plt.xlabel('Number of orders', fontsize=12)\n",
    "plt.title('Share of orders per aisle', fontsize=13)\n",
    "plt.show();"
   ]
  },
  {
   "cell_type": "markdown",
   "id": "0f06de95",
   "metadata": {},
   "source": [
    "## 3.11 What are the most popular departments?"
   ]
  },
  {
   "cell_type": "code",
   "execution_count": 38,
   "id": "f93a7918",
   "metadata": {},
   "outputs": [
    {
     "data": {
      "image/png": "[encoded data removed]",
      "text/plain": [
       "<Figure size 864x432 with 1 Axes>"
      ]
     },
     "metadata": {
      "needs_background": "light"
     },
     "output_type": "display_data"
    }
   ],
   "source": [
    "# most popular departments in terms of units ordered\n",
    "\n",
    "plt.figure(figsize=(12,6))\n",
    "sns.barplot(data = products_and_orders.groupby('department')['add_to_cart_order'].sum().sort_values(ascending = False).reset_index()[0:10], \n",
    "            x = 'add_to_cart_order', y = 'department', palette = 'Set2')\n",
    "plt.ylabel('Department', fontsize=12)\n",
    "plt.xlabel('Products ordered', fontsize=12)\n",
    "plt.title('Most popular Departments', fontsize=13)\n",
    "plt.show();"
   ]
  },
  {
   "cell_type": "markdown",
   "id": "4ff44368",
   "metadata": {},
   "source": [
    "## 3.12 What is the share of orders per department?"
   ]
  },
  {
   "cell_type": "code",
   "execution_count": 39,
   "id": "a5c26d35",
   "metadata": {},
   "outputs": [
    {
     "data": {
      "image/png": "[encoded data removed]",
      "text/plain": [
       "<Figure size 864x432 with 1 Axes>"
      ]
     },
     "metadata": {
      "needs_background": "light"
     },
     "output_type": "display_data"
    }
   ],
   "source": [
    "#visualizing the share of orders per department\n",
    "\n",
    "top_dep = products.groupby('department')['order_id'].count().reset_index()\n",
    "top_dep = top_dep.nlargest(12,'order_id')\n",
    "\n",
    "plt.figure(figsize=(12,6))\n",
    "sns.barplot(data = top_dep, x = 'order_id', y = 'department', palette = 'Set3')\n",
    "plt.ylabel('Department', fontsize=12)\n",
    "plt.xlabel('Number of orders', fontsize=12)\n",
    "plt.title('Share of orders per department', fontsize=13)\n",
    "plt.show();"
   ]
  }
 ],
 "metadata": {
  "kernelspec": {
   "display_name": "Python 3 (ipykernel)",
   "language": "python",
   "name": "python3"
  },
  "language_info": {
   "codemirror_mode": {
    "name": "ipython",
    "version": 3
   },
   "file_extension": ".py",
   "mimetype": "text/x-python",
   "name": "python",
   "nbconvert_exporter": "python",
   "pygments_lexer": "ipython3",
   "version": "3.9.7"
  }
 },
 "nbformat": 4,
 "nbformat_minor": 5
}
